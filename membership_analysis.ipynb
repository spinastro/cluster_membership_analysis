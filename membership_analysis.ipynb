{
 "cells": [
  {
   "cell_type": "code",
   "execution_count": 36,
   "metadata": {},
   "outputs": [],
   "source": [
    "import sys\n",
    "if 'analysis_functions_seq_5D_cc' in sys.modules:\n",
    "    del sys.modules[\"analysis_functions_seq_5D_cc\"]\n",
    "\n",
    "from analysis_functions_seq_5D_cc import *\n",
    "from glob import glob\n",
    "import numpy as np\n",
    "import matplotlib.pyplot as plt\n",
    "import time\n",
    "from astropy.io import ascii\n",
    "from os import path\n",
    "import pandas as pd\n",
    "import os\n",
    "from os import path\n"
   ]
  },
  {
   "cell_type": "code",
   "execution_count": 44,
   "metadata": {},
   "outputs": [],
   "source": [
    "path_results ='results/'\n",
    "if path.exists(path_results) == False:\n",
    "    os.mkdir(path_results)\n",
    "\n",
    "if path.exists(path_results+'plots_metrics') == False:\n",
    "    os.mkdir(path_results+'plots_metrics')\n",
    "    os.mkdir(path_results+'plots_samples')\n",
    "    os.mkdir(path_results+'plots_CMD')\n",
    "    os.mkdir(path_results+'catalogs')\n"
   ]
  },
  {
   "cell_type": "code",
   "execution_count": 10,
   "metadata": {},
   "outputs": [],
   "source": [
    "# These are the parameters that I have used for the analysis!!!!\n",
    "algorithm = 'svc'\n",
    "mem_prob_threshold= 0.7\n",
    "prob_non_mem = 0.02\n",
    "multi_var_type = 'lit'\n",
    "fraction_pool_NM = 0.1\n",
    "limit_sigma = 5.\n",
    "n_iterations_probab = 1000\n",
    "\n",
    "cluster_name = 'Blanco_1'"
   ]
  },
  {
   "cell_type": "code",
   "execution_count": 5,
   "metadata": {},
   "outputs": [],
   "source": [
    "###### Load clusters' tables\n",
    "all_clusters, all_cl_members = load_cluster_tables('CantatGaudin20.fits','noDuplicates_allmembers.csv')\n"
   ]
  },
  {
   "cell_type": "code",
   "execution_count": 8,
   "metadata": {},
   "outputs": [],
   "source": [
    "results=def_results()"
   ]
  },
  {
   "cell_type": "code",
   "execution_count": 15,
   "metadata": {},
   "outputs": [
    {
     "name": "stdout",
     "output_type": "stream",
     "text": [
      "Blanco_1__svc_0.7_0.02_lit_0.1_5.0_1000\n"
     ]
    }
   ],
   "source": [
    "name_model = cluster_name+'__'+algorithm+'_'+str(mem_prob_threshold)+'_'+str(prob_non_mem)+'_'+multi_var_type+'_'+str(fraction_pool_NM)+'_'+str(limit_sigma)+'_'+str(n_iterations_probab)\n",
    "print(name_model)\n",
    "results['model'].append(name_model)\n"
   ]
  },
  {
   "cell_type": "code",
   "execution_count": 14,
   "metadata": {},
   "outputs": [],
   "source": [
    "data = Table.from_pandas(pd.read_pickle(cluster_name+'.pkl').drop(columns=['random_index','phot_bp_mean_mag', 'radial_velocity', 'radial_velocity_error']))\n"
   ]
  },
  {
   "cell_type": "code",
   "execution_count": 16,
   "metadata": {},
   "outputs": [
    {
     "name": "stdout",
     "output_type": "stream",
     "text": [
      "Blanco_1\n",
      "Plx: 4.210000038146973 +/- 0.12099999934434891\n",
      "pmra: 18.73900032043457 +/- 0.4320000112056732\n",
      "pmdec: 2.6019999980926514 +/- 0.4440000057220459\n",
      "----\n"
     ]
    }
   ],
   "source": [
    "###### Find cluster parameters\n",
    "cl_par = cluster_parameters(all_clusters,cluster_name)\n",
    "results['cluster'].append(cluster_name)\n",
    "results['ra'].append(cl_par[0])\n",
    "results['dec'].append(cl_par[1])\n",
    "results['plx'].append(cl_par[2])\n",
    "results['s_plx'].append(cl_par[3])\n",
    "results['pmra'].append(cl_par[4])\n",
    "results['s_pmra'].append(cl_par[5])\n",
    "results['pmdec'].append(cl_par[6])\n",
    "results['s_pmdec'].append(cl_par[7])\n",
    "results['r50'].append(cl_par[8])\n"
   ]
  },
  {
   "cell_type": "code",
   "execution_count": 17,
   "metadata": {},
   "outputs": [
    {
     "name": "stdout",
     "output_type": "stream",
     "text": [
      "Limits plx: 1.6775625944137573 / 6.6526923179626465\n",
      "Limits pmra: 16.588396072387695 / 20.851430892944336\n",
      "Limits pmdec: 0.38694998621940613 / 4.778400897979736\n",
      "----\n",
      "All database 75896\n",
      "All cleaned sample 845\n"
     ]
    }
   ],
   "source": [
    "###### Clean dataframe\n",
    "data_clean = clean_database(data,cl_par,limit_sigma,all_cl_members,cluster_name)\n",
    "data_clean['membership'] = data_clean['membership'].astype(\"int8\")\n",
    "data_clean['prob_membership'] = data_clean['prob_membership'].astype(\"float16\")\n",
    "del data\n"
   ]
  },
  {
   "cell_type": "code",
   "execution_count": 18,
   "metadata": {},
   "outputs": [
    {
     "name": "stdout",
     "output_type": "stream",
     "text": [
      "Members: 380\n"
     ]
    }
   ],
   "source": [
    "###### Select cluster's members\n",
    "data_clean, X_members, y_members = mem_selection(data_clean,mem_prob_threshold)\n",
    "data_clean['Mem_train_test'] = data_clean['membership'].astype(\"int8\")\n",
    "s_plx_mem = X_members.parallax.std()\n",
    "s_pmra_mem = X_members.pmra.std()\n",
    "s_pmdec_mem = X_members.pmdec.std()\n"
   ]
  },
  {
   "cell_type": "code",
   "execution_count": 20,
   "metadata": {},
   "outputs": [
    {
     "name": "stdout",
     "output_type": "stream",
     "text": [
      "Size selection pool non-members: 377\n",
      "Non-members: 357\n"
     ]
    }
   ],
   "source": [
    "###### Select non-members\n",
    "data_clean, X_nonmembers, y_nonmembers = non_mem_selection(data_clean,cl_par,X_members,prob_non_mem,multi_var_type,fraction_pool_NM)\n",
    "data_clean['mem_train_test'] = data_clean['membership'].astype(\"int8\")\n",
    "data_clean['Prob_multivariate_cluster'] = data_clean['membership'].astype(\"float16\")\n",
    "\n",
    "results['N_mem_train'].append(len(X_members))\n",
    "results['N_non_mem_train'].append(len(X_nonmembers))\n"
   ]
  },
  {
   "cell_type": "code",
   "execution_count": 21,
   "metadata": {},
   "outputs": [],
   "source": [
    "###### Build train and test sets\n",
    "X_train, y_train, X_test, y_test = build_train_test(X_nonmembers, y_nonmembers,X_members, y_members)\n"
   ]
  },
  {
   "cell_type": "code",
   "execution_count": 22,
   "metadata": {},
   "outputs": [],
   "source": [
    "###### Scale features\n",
    "X_train_std, X_test_std, X_all_std, sc_mod = scale_features(data_clean, X_train, X_test)\n",
    "del X_train\n",
    "del X_test\n"
   ]
  },
  {
   "cell_type": "code",
   "execution_count": 32,
   "metadata": {},
   "outputs": [],
   "source": [
    "###### Fitting\n",
    "mod = fitting(algorithm, X_train_std, y_train, X_test_std, y_test, cluster_name, path_results,name_model)\n"
   ]
  },
  {
   "cell_type": "code",
   "execution_count": 34,
   "metadata": {},
   "outputs": [
    {
     "name": "stderr",
     "output_type": "stream",
     "text": [
      "100%|██████████| 845/845 [00:07<00:00, 119.94it/s]\n"
     ]
    }
   ],
   "source": [
    "###### Predict for all database\n",
    "if len(data_clean) < 50000:\n",
    "    data_clean = calculate_probabilities(data_clean, X_all_std, mod, sc_mod, n_iterations_probab)\n",
    "else:\n",
    "    data_clean = calculate_probabilities_chunks(data_clean, X_all_std, mod, sc_mod, n_iterations_probab)\n",
    "all_mem = data_clean['Probability_median'] >= 0.5\n"
   ]
  },
  {
   "cell_type": "code",
   "execution_count": 37,
   "metadata": {},
   "outputs": [
    {
     "data": {
      "image/png": "[encoded data removed]",
      "text/plain": [
       "<Figure size 432x288 with 1 Axes>"
      ]
     },
     "metadata": {
      "needs_background": "light"
     },
     "output_type": "display_data"
    },
    {
     "name": "stdout",
     "output_type": "stream",
     "text": [
      "Score 0.8756756756756757\n",
      "Accuracy 0.8756756756756757\n",
      "Log Loss 4.294053259768907\n",
      "ROC AUC 0.9453801169590643\n",
      "tNM 80, fM 10, fNM 13, tM 82\n"
     ]
    }
   ],
   "source": [
    "###### Save metrics\n",
    "score, accuracy_val, log_loss_val, roc_score, tNM, fM, fNM, tM = calculate_metrics(data_clean,X_test_std,y_test,X_all_std,mod,path_results,name_model)\n",
    "\n",
    "results['Score'].append(score)\n",
    "results['Accuracy'].append(accuracy_val)\n",
    "results['True_NM'].append(tNM)\n",
    "results['False_M'].append(fM)\n",
    "results['False_NM'].append(fNM)\n",
    "results['True_M'].append(tM)\n",
    "results['LogLoss'].append(log_loss_val)\n",
    "results['RocScore'].append(roc_score)\n",
    "mem = data_clean['prob_membership'] >= mem_prob_threshold\n",
    "results['N_gaia_mem'].append(len(data_clean['prob_membership'][mem]))\n",
    "all_mem = data_clean['Probability_median'] >= 0.5\n",
    "results['N_all_mem'].append(len(data_clean['prob_membership'][all_mem]))\n",
    "non_conf_mem = mem & (data_clean['Probability_median'] < 0.5)\n",
    "results['N_non_conf_mem'].append(len(data_clean['prob_membership'][non_conf_mem]))\n"
   ]
  },
  {
   "cell_type": "code",
   "execution_count": 38,
   "metadata": {},
   "outputs": [
    {
     "data": {
      "image/png": "[encoded data removed]",
      "text/plain": [
       "<Figure size 432x288 with 2 Axes>"
      ]
     },
     "metadata": {
      "needs_background": "light"
     },
     "output_type": "display_data"
    }
   ],
   "source": [
    "cm = plt.cm.get_cmap('seismic')\n",
    "sc = plt.scatter(data_clean['bp_rp'][all_mem],data_clean['phot_g_mean_mag'][all_mem], s=10, c=data_clean['Probability_median'][all_mem], vmin=0.5, vmax=1.0, cmap=cm, alpha=0.3, label='This work')\n",
    "plt.scatter(data_clean['bp_rp'][mem],data_clean['phot_g_mean_mag'][mem], s=0.3, color='black', label='Cantat-Gaudin et al. (2020)')\n",
    "cbar = plt.colorbar(sc,pad=0.)\n",
    "cbar.set_label('Membership probability', rotation=270, labelpad=15)\n",
    "plt.legend()\n",
    "plt.xlim([data_clean['bp_rp'][all_mem & ~np.isnan(data_clean['bp_rp'])].min()-0.5,data_clean['bp_rp'][all_mem & ~np.isnan(data_clean['bp_rp'])].max()+0.5])\n",
    "plt.ylim([data_clean['phot_g_mean_mag'][all_mem].max()+1,data_clean['phot_g_mean_mag'][all_mem].min()-1])\n",
    "plt.ylabel('g')\n",
    "plt.xlabel('bp_rp')\n",
    "plt.tight_layout()\n"
   ]
  },
  {
   "cell_type": "code",
   "execution_count": 45,
   "metadata": {},
   "outputs": [],
   "source": [
    "df_tosave = data_clean.to_pandas()\n",
    "df_tosave.to_pickle(path_results+'/catalogs/'+name_model+'_cat_5D.pkl')\n",
    "del data_clean\n",
    "del df_tosave\n"
   ]
  },
  {
   "cell_type": "code",
   "execution_count": 48,
   "metadata": {},
   "outputs": [
    {
     "data": {
      "text/plain": [
       "OrderedDict([('model', ['Blanco_1__svc_0.7_0.02_lit_0.1_5.0_1000']),\n",
       "             ('cluster', ['Blanco_1']),\n",
       "             ('ra', [0.853]),\n",
       "             ('dec', [-29.958]),\n",
       "             ('plx', [4.21]),\n",
       "             ('s_plx', [0.121]),\n",
       "             ('pmra', [18.739]),\n",
       "             ('s_pmra', [0.432]),\n",
       "             ('pmdec', [2.602]),\n",
       "             ('s_pmdec', [0.444]),\n",
       "             ('r50', [0.699]),\n",
       "             ('Score', [0.8756756756756757, 0.8756756756756757]),\n",
       "             ('Accuracy', [0.8756756756756757, 0.8756756756756757]),\n",
       "             ('True_NM', [80, 80]),\n",
       "             ('False_M', [10, 10]),\n",
       "             ('False_NM', [13, 13]),\n",
       "             ('True_M', [82, 82]),\n",
       "             ('LogLoss', [4.294053259768907, 4.294053259768907]),\n",
       "             ('RocScore', [0.9453801169590643, 0.9453801169590643]),\n",
       "             ('N_mem_train', [380]),\n",
       "             ('N_non_mem_train', [357]),\n",
       "             ('N_gaia_mem', [380, 380]),\n",
       "             ('N_all_mem', [432, 432]),\n",
       "             ('N_non_conf_mem', [23, 23])])"
      ]
     },
     "execution_count": 48,
     "metadata": {},
     "output_type": "execute_result"
    }
   ],
   "source": [
    "results"
   ]
  },
  {
   "cell_type": "code",
   "execution_count": null,
   "metadata": {},
   "outputs": [],
   "source": []
  }
 ],
 "metadata": {
  "kernelspec": {
   "display_name": "Python 3",
   "language": "python",
   "name": "python3"
  },
  "language_info": {
   "codemirror_mode": {
    "name": "ipython",
    "version": 3
   },
   "file_extension": ".py",
   "mimetype": "text/x-python",
   "name": "python",
   "nbconvert_exporter": "python",
   "pygments_lexer": "ipython3",
   "version": "3.6.8"
  }
 },
 "nbformat": 4,
 "nbformat_minor": 2
}
